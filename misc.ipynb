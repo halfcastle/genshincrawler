{
 "cells": [
  {
   "cell_type": "code",
   "execution_count": 1,
   "id": "1300b571",
   "metadata": {},
   "outputs": [],
   "source": [
    "list = ['Albedo', 'Zhongli', 'Xiao', 'Tartaglia']"
   ]
  },
  {
   "cell_type": "code",
   "execution_count": 2,
   "id": "29f371b2",
   "metadata": {},
   "outputs": [],
   "source": [
    "link = \"https://genshin-impact.fandom.com/wiki/\""
   ]
  },
  {
   "cell_type": "code",
   "execution_count": 4,
   "id": "972422a0",
   "metadata": {},
   "outputs": [
    {
     "data": {
      "text/plain": [
       "['https://genshin-impact.fandom.com/wiki/Albedo',\n",
       " 'https://genshin-impact.fandom.com/wiki/Zhongli',\n",
       " 'https://genshin-impact.fandom.com/wiki/Xiao',\n",
       " 'https://genshin-impact.fandom.com/wiki/Tartaglia']"
      ]
     },
     "execution_count": 4,
     "metadata": {},
     "output_type": "execute_result"
    }
   ],
   "source": [
    "[link + s for s in list]"
   ]
  },
  {
   "cell_type": "code",
   "execution_count": 8,
   "id": "29d482d7",
   "metadata": {},
   "outputs": [],
   "source": [
    "names = \"\"\"Raiden_Shogun\n",
    "Kamisato_Ayaka\n",
    "Jean\n",
    "Lisa\n",
    "Barbara\n",
    "Kaeya\n",
    "Diluc\n",
    "Razor\n",
    "Amber\n",
    "Venti\n",
    "Xiangling\n",
    "Beidou\n",
    "Xingqiu\n",
    "Xiao\n",
    "Ningguang\n",
    "Klee\n",
    "Zhongli\n",
    "Fischl\n",
    "Bennett\n",
    "Noelle\n",
    "Qiqi\n",
    "Chongyun\n",
    "Ganyu\n",
    "Albedo\n",
    "Diona\n",
    "Mona\n",
    "Keqing\n",
    "Sucrose\n",
    "Xinyan\n",
    "Rosaria\n",
    "HuTao\n",
    "Kaedehara_Kazuha\n",
    "Yanfei\n",
    "Yoimiya\n",
    "Thoma\n",
    "Eula\n",
    "Sayu\n",
    "Sangonomiya_Kokomi\n",
    "Gorou\n",
    "KujouSara\n",
    "Arataki_Itto\n",
    "YaeMiko\n",
    "Shikanoin_Heizou\n",
    "Yelan\n",
    "Aloy\n",
    "Shenhe\n",
    "Yun_Jin\n",
    "Kuki_Shinobu\n",
    "Kamisato_Ayato\n",
    "Collei\n",
    "Dori\n",
    "Tighnari\n",
    "Nilou\n",
    "Cyno\n",
    "Candace\n",
    "Nahida\n",
    "Layla\n",
    "Alhaitham\n",
    "Dehya\n",
    "Paimon\n",
    "Yaoyao\n",
    "Baizhu\n",
    "Faruzan\n",
    "Mika\"\"\""
   ]
  },
  {
   "cell_type": "code",
   "execution_count": 9,
   "id": "a85a1e23",
   "metadata": {},
   "outputs": [],
   "source": [
    "listy = names.split(\"\\n\")"
   ]
  },
  {
   "cell_type": "code",
   "execution_count": 14,
   "id": "afd31a99",
   "metadata": {},
   "outputs": [],
   "source": [
    "newlist = [s + \"/Voice-Overs\" for s in listy]"
   ]
  },
  {
   "cell_type": "code",
   "execution_count": 15,
   "id": "1a8618a3",
   "metadata": {
    "scrolled": true
   },
   "outputs": [
    {
     "data": {
      "text/plain": [
       "['https://genshin-impact.fandom.com/wiki/Raiden_Shogun/Voice-Overs',\n",
       " 'https://genshin-impact.fandom.com/wiki/Kamisato_Ayaka/Voice-Overs',\n",
       " 'https://genshin-impact.fandom.com/wiki/Jean/Voice-Overs',\n",
       " 'https://genshin-impact.fandom.com/wiki/Lisa/Voice-Overs',\n",
       " 'https://genshin-impact.fandom.com/wiki/Barbara/Voice-Overs',\n",
       " 'https://genshin-impact.fandom.com/wiki/Kaeya/Voice-Overs',\n",
       " 'https://genshin-impact.fandom.com/wiki/Diluc/Voice-Overs',\n",
       " 'https://genshin-impact.fandom.com/wiki/Razor/Voice-Overs',\n",
       " 'https://genshin-impact.fandom.com/wiki/Amber/Voice-Overs',\n",
       " 'https://genshin-impact.fandom.com/wiki/Venti/Voice-Overs',\n",
       " 'https://genshin-impact.fandom.com/wiki/Xiangling/Voice-Overs',\n",
       " 'https://genshin-impact.fandom.com/wiki/Beidou/Voice-Overs',\n",
       " 'https://genshin-impact.fandom.com/wiki/Xingqiu/Voice-Overs',\n",
       " 'https://genshin-impact.fandom.com/wiki/Xiao/Voice-Overs',\n",
       " 'https://genshin-impact.fandom.com/wiki/Ningguang/Voice-Overs',\n",
       " 'https://genshin-impact.fandom.com/wiki/Klee/Voice-Overs',\n",
       " 'https://genshin-impact.fandom.com/wiki/Zhongli/Voice-Overs',\n",
       " 'https://genshin-impact.fandom.com/wiki/Fischl/Voice-Overs',\n",
       " 'https://genshin-impact.fandom.com/wiki/Bennett/Voice-Overs',\n",
       " 'https://genshin-impact.fandom.com/wiki/Noelle/Voice-Overs',\n",
       " 'https://genshin-impact.fandom.com/wiki/Qiqi/Voice-Overs',\n",
       " 'https://genshin-impact.fandom.com/wiki/Chongyun/Voice-Overs',\n",
       " 'https://genshin-impact.fandom.com/wiki/Ganyu/Voice-Overs',\n",
       " 'https://genshin-impact.fandom.com/wiki/Albedo/Voice-Overs',\n",
       " 'https://genshin-impact.fandom.com/wiki/Diona/Voice-Overs',\n",
       " 'https://genshin-impact.fandom.com/wiki/Mona/Voice-Overs',\n",
       " 'https://genshin-impact.fandom.com/wiki/Keqing/Voice-Overs',\n",
       " 'https://genshin-impact.fandom.com/wiki/Sucrose/Voice-Overs',\n",
       " 'https://genshin-impact.fandom.com/wiki/Xinyan/Voice-Overs',\n",
       " 'https://genshin-impact.fandom.com/wiki/Rosaria/Voice-Overs',\n",
       " 'https://genshin-impact.fandom.com/wiki/HuTao/Voice-Overs',\n",
       " 'https://genshin-impact.fandom.com/wiki/Kaedehara_Kazuha/Voice-Overs',\n",
       " 'https://genshin-impact.fandom.com/wiki/Yanfei/Voice-Overs',\n",
       " 'https://genshin-impact.fandom.com/wiki/Yoimiya/Voice-Overs',\n",
       " 'https://genshin-impact.fandom.com/wiki/Thoma/Voice-Overs',\n",
       " 'https://genshin-impact.fandom.com/wiki/Eula/Voice-Overs',\n",
       " 'https://genshin-impact.fandom.com/wiki/Sayu/Voice-Overs',\n",
       " 'https://genshin-impact.fandom.com/wiki/Sangonomiya_Kokomi/Voice-Overs',\n",
       " 'https://genshin-impact.fandom.com/wiki/Gorou/Voice-Overs',\n",
       " 'https://genshin-impact.fandom.com/wiki/KujouSara/Voice-Overs',\n",
       " 'https://genshin-impact.fandom.com/wiki/Arataki_Itto/Voice-Overs',\n",
       " 'https://genshin-impact.fandom.com/wiki/YaeMiko/Voice-Overs',\n",
       " 'https://genshin-impact.fandom.com/wiki/Shikanoin_Heizou/Voice-Overs',\n",
       " 'https://genshin-impact.fandom.com/wiki/Yelan/Voice-Overs',\n",
       " 'https://genshin-impact.fandom.com/wiki/Aloy/Voice-Overs',\n",
       " 'https://genshin-impact.fandom.com/wiki/Shenhe/Voice-Overs',\n",
       " 'https://genshin-impact.fandom.com/wiki/Yun_Jin/Voice-Overs',\n",
       " 'https://genshin-impact.fandom.com/wiki/Kuki_Shinobu/Voice-Overs',\n",
       " 'https://genshin-impact.fandom.com/wiki/Kamisato_Ayato/Voice-Overs',\n",
       " 'https://genshin-impact.fandom.com/wiki/Collei/Voice-Overs',\n",
       " 'https://genshin-impact.fandom.com/wiki/Dori/Voice-Overs',\n",
       " 'https://genshin-impact.fandom.com/wiki/Tighnari/Voice-Overs',\n",
       " 'https://genshin-impact.fandom.com/wiki/Nilou/Voice-Overs',\n",
       " 'https://genshin-impact.fandom.com/wiki/Cyno/Voice-Overs',\n",
       " 'https://genshin-impact.fandom.com/wiki/Candace/Voice-Overs',\n",
       " 'https://genshin-impact.fandom.com/wiki/Nahida/Voice-Overs',\n",
       " 'https://genshin-impact.fandom.com/wiki/Layla/Voice-Overs',\n",
       " 'https://genshin-impact.fandom.com/wiki/Alhaitham/Voice-Overs',\n",
       " 'https://genshin-impact.fandom.com/wiki/Dehya/Voice-Overs',\n",
       " 'https://genshin-impact.fandom.com/wiki/Paimon/Voice-Overs',\n",
       " 'https://genshin-impact.fandom.com/wiki/Yaoyao/Voice-Overs',\n",
       " 'https://genshin-impact.fandom.com/wiki/Baizhu/Voice-Overs',\n",
       " 'https://genshin-impact.fandom.com/wiki/Faruzan/Voice-Overs',\n",
       " 'https://genshin-impact.fandom.com/wiki/Mika/Voice-Overs']"
      ]
     },
     "execution_count": 15,
     "metadata": {},
     "output_type": "execute_result"
    }
   ],
   "source": [
    "[link + a for a in newlist]"
   ]
  },
  {
   "cell_type": "code",
   "execution_count": 25,
   "id": "efa6e304",
   "metadata": {},
   "outputs": [],
   "source": [
    "newchars = pd.read_csv(\"newchars.csv\")"
   ]
  },
  {
   "cell_type": "code",
   "execution_count": 33,
   "id": "6a8e2c9e",
   "metadata": {
    "scrolled": true
   },
   "outputs": [
    {
     "data": {
      "text/html": [
       "<div>\n",
       "<style scoped>\n",
       "    .dataframe tbody tr th:only-of-type {\n",
       "        vertical-align: middle;\n",
       "    }\n",
       "\n",
       "    .dataframe tbody tr th {\n",
       "        vertical-align: top;\n",
       "    }\n",
       "\n",
       "    .dataframe thead th {\n",
       "        text-align: right;\n",
       "    }\n",
       "</style>\n",
       "<table border=\"1\" class=\"dataframe\">\n",
       "  <thead>\n",
       "    <tr style=\"text-align: right;\">\n",
       "      <th></th>\n",
       "      <th>Lines</th>\n",
       "      <th>Unnamed: 1</th>\n",
       "    </tr>\n",
       "  </thead>\n",
       "  <tbody>\n",
       "    <tr>\n",
       "      <th>0</th>\n",
       "      <td>Elemental Skill\\n \\nOne with the forest.\\n \\nE...</td>\n",
       "      <td>NaN</td>\n",
       "    </tr>\n",
       "    <tr>\n",
       "      <th>1</th>\n",
       "      <td>Elemental Skill\\n \\nGo!\\n \\nFly.\\n \\nElemental...</td>\n",
       "      <td>NaN</td>\n",
       "    </tr>\n",
       "    <tr>\n",
       "      <th>2</th>\n",
       "      <td>Elemental Skill\\n \\nHere!\\n \\nPositions!\\n \\nW...</td>\n",
       "      <td>NaN</td>\n",
       "    </tr>\n",
       "    <tr>\n",
       "      <th>3</th>\n",
       "      <td>Elemental Skill\\n \\nWatch this!\\n \\nYour Mora ...</td>\n",
       "      <td>NaN</td>\n",
       "    </tr>\n",
       "    <tr>\n",
       "      <th>4</th>\n",
       "      <td>Elemental Skill\\n \\nSurrender!\\n \\nFutile.\\n \\...</td>\n",
       "      <td>NaN</td>\n",
       "    </tr>\n",
       "    <tr>\n",
       "      <th>5</th>\n",
       "      <td>Elemental Skill\\n \\nThe night is cold.\\n \\nNot...</td>\n",
       "      <td>NaN</td>\n",
       "    </tr>\n",
       "    <tr>\n",
       "      <th>6</th>\n",
       "      <td>Elemental Skill\\n \\nYield!\\n \\nFlee!\\n \\nDo yo...</td>\n",
       "      <td>NaN</td>\n",
       "    </tr>\n",
       "    <tr>\n",
       "      <th>7</th>\n",
       "      <td>Elemental Skill\\n \\nCommitted to memory.\\n \\nG...</td>\n",
       "      <td>NaN</td>\n",
       "    </tr>\n",
       "  </tbody>\n",
       "</table>\n",
       "</div>"
      ],
      "text/plain": [
       "                                               Lines  Unnamed: 1\n",
       "0  Elemental Skill\\n \\nOne with the forest.\\n \\nE...         NaN\n",
       "1  Elemental Skill\\n \\nGo!\\n \\nFly.\\n \\nElemental...         NaN\n",
       "2  Elemental Skill\\n \\nHere!\\n \\nPositions!\\n \\nW...         NaN\n",
       "3  Elemental Skill\\n \\nWatch this!\\n \\nYour Mora ...         NaN\n",
       "4  Elemental Skill\\n \\nSurrender!\\n \\nFutile.\\n \\...         NaN\n",
       "5  Elemental Skill\\n \\nThe night is cold.\\n \\nNot...         NaN\n",
       "6  Elemental Skill\\n \\nYield!\\n \\nFlee!\\n \\nDo yo...         NaN\n",
       "7  Elemental Skill\\n \\nCommitted to memory.\\n \\nG...         NaN"
      ]
     },
     "execution_count": 33,
     "metadata": {},
     "output_type": "execute_result"
    }
   ],
   "source": [
    "newchars"
   ]
  },
  {
   "cell_type": "code",
   "execution_count": 31,
   "id": "a4bc49c5",
   "metadata": {},
   "outputs": [],
   "source": [
    "newchars['Lines'] = newchars['Lines'].str.replace(\", ,\", \"\\n\")"
   ]
  },
  {
   "cell_type": "code",
   "execution_count": 32,
   "id": "79cecc46",
   "metadata": {},
   "outputs": [
    {
     "data": {
      "text/html": [
       "<div>\n",
       "<style scoped>\n",
       "    .dataframe tbody tr th:only-of-type {\n",
       "        vertical-align: middle;\n",
       "    }\n",
       "\n",
       "    .dataframe tbody tr th {\n",
       "        vertical-align: top;\n",
       "    }\n",
       "\n",
       "    .dataframe thead th {\n",
       "        text-align: right;\n",
       "    }\n",
       "</style>\n",
       "<table border=\"1\" class=\"dataframe\">\n",
       "  <thead>\n",
       "    <tr style=\"text-align: right;\">\n",
       "      <th></th>\n",
       "      <th>Lines</th>\n",
       "      <th>Unnamed: 1</th>\n",
       "    </tr>\n",
       "  </thead>\n",
       "  <tbody>\n",
       "    <tr>\n",
       "      <th>0</th>\n",
       "      <td>Elemental Skill\\n \\nOne with the forest.\\n \\nE...</td>\n",
       "      <td>NaN</td>\n",
       "    </tr>\n",
       "    <tr>\n",
       "      <th>1</th>\n",
       "      <td>Elemental Skill\\n \\nGo!\\n \\nFly.\\n \\nElemental...</td>\n",
       "      <td>NaN</td>\n",
       "    </tr>\n",
       "    <tr>\n",
       "      <th>2</th>\n",
       "      <td>Elemental Skill\\n \\nHere!\\n \\nPositions!\\n \\nW...</td>\n",
       "      <td>NaN</td>\n",
       "    </tr>\n",
       "    <tr>\n",
       "      <th>3</th>\n",
       "      <td>Elemental Skill\\n \\nWatch this!\\n \\nYour Mora ...</td>\n",
       "      <td>NaN</td>\n",
       "    </tr>\n",
       "    <tr>\n",
       "      <th>4</th>\n",
       "      <td>Elemental Skill\\n \\nSurrender!\\n \\nFutile.\\n \\...</td>\n",
       "      <td>NaN</td>\n",
       "    </tr>\n",
       "    <tr>\n",
       "      <th>5</th>\n",
       "      <td>Elemental Skill\\n \\nThe night is cold.\\n \\nNot...</td>\n",
       "      <td>NaN</td>\n",
       "    </tr>\n",
       "    <tr>\n",
       "      <th>6</th>\n",
       "      <td>Elemental Skill\\n \\nYield!\\n \\nFlee!\\n \\nDo yo...</td>\n",
       "      <td>NaN</td>\n",
       "    </tr>\n",
       "    <tr>\n",
       "      <th>7</th>\n",
       "      <td>Elemental Skill\\n \\nCommitted to memory.\\n \\nG...</td>\n",
       "      <td>NaN</td>\n",
       "    </tr>\n",
       "  </tbody>\n",
       "</table>\n",
       "</div>"
      ],
      "text/plain": [
       "                                               Lines  Unnamed: 1\n",
       "0  Elemental Skill\\n \\nOne with the forest.\\n \\nE...         NaN\n",
       "1  Elemental Skill\\n \\nGo!\\n \\nFly.\\n \\nElemental...         NaN\n",
       "2  Elemental Skill\\n \\nHere!\\n \\nPositions!\\n \\nW...         NaN\n",
       "3  Elemental Skill\\n \\nWatch this!\\n \\nYour Mora ...         NaN\n",
       "4  Elemental Skill\\n \\nSurrender!\\n \\nFutile.\\n \\...         NaN\n",
       "5  Elemental Skill\\n \\nThe night is cold.\\n \\nNot...         NaN\n",
       "6  Elemental Skill\\n \\nYield!\\n \\nFlee!\\n \\nDo yo...         NaN\n",
       "7  Elemental Skill\\n \\nCommitted to memory.\\n \\nG...         NaN"
      ]
     },
     "execution_count": 32,
     "metadata": {},
     "output_type": "execute_result"
    }
   ],
   "source": [
    "newchars"
   ]
  },
  {
   "cell_type": "code",
   "execution_count": 35,
   "id": "18ffa21a",
   "metadata": {},
   "outputs": [],
   "source": [
    "newchars.to_csv('newchars.csv')"
   ]
  },
  {
   "cell_type": "code",
   "execution_count": 38,
   "id": "a5fb5044",
   "metadata": {},
   "outputs": [],
   "source": [
    "import re"
   ]
  },
  {
   "cell_type": "code",
   "execution_count": 37,
   "id": "17a87c31",
   "metadata": {
    "scrolled": true
   },
   "outputs": [
    {
     "ename": "NameError",
     "evalue": "name 're' is not defined",
     "output_type": "error",
     "traceback": [
      "\u001b[0;31m---------------------------------------------------------------------------\u001b[0m",
      "\u001b[0;31mNameError\u001b[0m                                 Traceback (most recent call last)",
      "Input \u001b[0;32mIn [37]\u001b[0m, in \u001b[0;36m<cell line: 1>\u001b[0;34m()\u001b[0m\n\u001b[0;32m----> 1\u001b[0m \u001b[43mre\u001b[49m\u001b[38;5;241m.\u001b[39msub(\u001b[38;5;124mr\u001b[39m\u001b[38;5;124m'\u001b[39m\u001b[38;5;124m^.*?I\u001b[39m\u001b[38;5;124m'\u001b[39m, \u001b[38;5;124m'\u001b[39m\u001b[38;5;124mI\u001b[39m\u001b[38;5;124m'\u001b[39m, intro)\n",
      "\u001b[0;31mNameError\u001b[0m: name 're' is not defined"
     ]
    }
   ],
   "source": [
    "re.sub(r'^.*?I', 'I', intro)"
   ]
  },
  {
   "cell_type": "code",
   "execution_count": 39,
   "id": "18b5b5da",
   "metadata": {},
   "outputs": [
    {
     "data": {
      "text/plain": [
       "\"I'm Tom.\""
      ]
     },
     "execution_count": 39,
     "metadata": {},
     "output_type": "execute_result"
    }
   ],
   "source": [
    "re.sub(r'^.*?I', 'I', intro)"
   ]
  },
  {
   "cell_type": "code",
   "execution_count": 42,
   "id": "c90ec748",
   "metadata": {},
   "outputs": [],
   "source": [
    "shogun = \"\"\"Hello, ,No salutations needed. My exalted status shall not be disclosed as we travel among the common folk. I acknowledge that you are a person of superior ability. Henceforth, you will be my guard. Worry not. Should any danger arise, I shall dispose of it.,Chat: Idleness, ,Inactivity serves no purpose whatsoever. Hmph.,Chat: The Mortal World, ,The world remains constant over the centuries. But human life is like the dew at dawn or a bubble rising through water. Transitory.,Chat: Worldly Beauty, ,All the world holds dear is but a backdrop of constant motion. I stand before it alone and unchanging.,When It Rains, ,Rainfall alone does not constitute a storm. Thunder is required.,When It Snows, ,The Winter Shogun approaches.,On a Clear Day, ,Clear skies can do nothing to hide the brilliance of lightning. Divine bolts can strike even in the absence of rain. Do you see that tree? Wait...you understand? So... demonstration is not required? Good.,Good Morning, ,Yawning without covering your mouth? Uncouth. I will pardon your rudeness this time. Good morning to you, too.,Good Night, ,I command the thunder in all corners of the world to cease. Rest well tonight.,About the Raiden Shogun: Transience, ,Thunder's roar and lightning's flash. So ephemeral. This is why reaching Eternity is desirable. ...Actually, this is why reaching Eternity is necessary.,About the Raiden Shogun: Eternity, , is a terrible thing. This body's purpose is to withstand wear and tear, that the one within might achieve Eternity.,About Us: Okuzumeshuu, ,I declare you my chamberlain. In other words, according to my judgment, you are useful to the Shogunate and loyal to me.,Something to Share, ,No, I have nothing to share with you at this time. But you... You use elemental energy without the aid of a Vision. How is this possible? Please enlighten me.,Interesting Things, ,Her body may have perished, but she became the Sacred Sakura. This, too, is a form of Eternity.,About , ,Kamisato... One of the most distinguished clans in all of Inazuma. Despite Ayato's trickery in regard to the Tri-Commission's affairs, he is nevertheless a loyal subject. His past misdeeds shall be excused.,About , ,A loyal and righteous subject, and an accomplished warrior. She is worthy to be called a hero. With an heir of such great promise, the future prosperity of the Kujou Clan is assured.,About , ,Indeed. It was I who slew ,. But I also allowed the people of Sangonomiya to continue worshiping it as the Watatsumi Omikami, so that it might enjoy their offerings. Now, Sangonomiya has destroyed the local Narukami Shrine and rebels against the Shogunate. As the Divine Priestess representing the Watatsumi Omikami, she must be held accountable.,About , ,Who?,About , ,Who? Ah, the firework maker. A manufacturer of fleeting illusions, enamored with the realm of fantasy and imagination, but a subject of mine nonetheless.,Hmm? Fireworks were released on Tenryou Commission property? By whom... her?,More About the Raiden Shogun: I, ,State your query. To the point.,More About the Raiden Shogun: II, ,On stormy days, the people of Inazuma chant \"kuwabara, kuwabara,\" believing that this will protect themselves from being struck by lightning. You need not worry about any storm summoned by my own hand — they will bring you no harm. Lightning storms that occur naturally, however, can be more unpredictable.,The Raiden Shogun's Hobbies, ,Foolish question. There are only two kinds of things — those that must be done and those that must not.,Least Favorite Food, ,Foolish question. There are only two kinds of foods — those that must be consumed to nourish the body and those that harm it.,Receiving a Gift: I, ,A familiar flavor... Acceptable.,Receiving a Gift: II, ,Leave it here, and I shall sample it.,Receiving a Gift: III, ,Consuming this would be physically detrimental. Remove it from my presence.,Birth Date, ,Is today the day of your creation? Return to the city with me. I will read out a speech for you in front of all my attendants. \"Embarrassing\"? ...Understood.,Feelings About Ascension: Intro, ,The initial stage of my journey, or Shoden, involves learning the nine-way sword slash and the foundations of the art of the polearm. There is no great variation from other traditions at this point. Or rather, it is the other traditions that do not differ from mine.,Feelings About Ascension: Building Up, ,At the intermediate stage of my journey, or Chuden, the art of the sword focuses on the study of various stances and transitions. The art of the polearm — slashes and backslashes.,Feelings About Ascension: Climax, ,The final stage of my journey, or Kaiden, is the study of the most profound techniques. Unavoidably, these draw heavily on elemental power, rendering them beyond the capabilities of most mortals. Most practitioners of other traditions are unable to ever reach this level.,When Thunder Strikes, ,Dear me, that didn't frighten you, did it? After all, you are in the presence of the most supreme and terrifying incarnation of lightning in the whole of Teyvat.,Good Afternoon, ,Time for dessert. What? Why not? What do you mean, \"Entrées come first\"? ...They were only indulging me because I am the Shogun? Huh, interesting.,Good Evening, ,Do you wish to know the truth about the shooting stars at night? Haha, they are but fleeting moments of luminosity. Uh, you used to be one of them? Are you a tengu warrior?,About Us: Protector, ,Despite serving as my guard during this journey, you need not shield me from danger. The Shogun's constitution is rather robust, and in the event she does break down, we can simply get a replacement. In an emergency, just send her into the fray.,About Us: Legacy, ,The Inazuman arts of polearm and sword combat, as well as the blade-forging process itself, primarily originated with me. Since then, they have branched out and blossomed into a variety of techniques according to each master's individual aptitude.,What would you say to another sparring session? If you emerge unscathed again, I'll let you found your own martial arts tradition in Inazuma. Ah, the drive to advance and evolve in the martial arts is truly unstoppable.,About the , ,Really? So in all this time, no new Electro Visions have appeared in the outside world? Well, what I can say on this topic is subject to certain constraints, but... it is not by my will that Visions are granted or denied. The key is people's desire, and... well, there's another side to it too.,About , ,Ah, that girl... She used to be the kind of person who could easily be swayed with some Fried Tofu. It's a relief to see how shrewd and resourceful she's now become. Still, I have to admit that I was a little upset to become the target of her scheming myself. I know it was for my own good, but I'm afraid she will mock me next time we meet... Perhaps I should take the initiative and strike her first? Hmm, she'll dodge it anyway.,About , ,Kamisato... One of the most distinguished clans in all of Inazuma. Eh? That's exactly what the Shogun said? Well, A—Ayaka's also well-versed in the art of the sword.,About , ,I can't deny that I am somewhat culpable in the events that led to him being almost stripped of his Vision, but I rather think the Shogun should be the one to extend a formal apology to him... Okay, fine. I'll give it some more thought.,About , ,He came about as a byproduct of creating the Shogun. Perhaps it's because I feel like I owe him something, but I do not wish to assert control over him.,About , ,I had an opportunity to feast with him once, back when I was just a kagemusha attending a gathering of the gods. So he's made his choice. Be that as it may, I don't believe his story is anywhere near finished yet.,About , ,Hmm. So, the Anemo Archon still goes by that name among mortals these days? Truth be told, from the very first moment I met him, I could somehow sense that we were not going to get along. Also, he sure can drink a lot.,About , ,I admire her humility; it is a sign of true wisdom. With the power she holds, Buer is capable of doing many things beyond our wildest imaginations... and yet, she uses her power only to right wrongs and to protect. She is a truly gentle god.,More About Ei: III, ,The account given in the book \",\" is largely an accurate one. At that time, she was preoccupied with various domestic matters within the island, so as her kagemusha, I assumed her identity and joined the troops dispatched to pacify Watatsumi. After this point, however, the story turns into mere wishful thinking. Back then, I was just a martial artist wrapped up in all the fighting, not a social reformer or moral leader.,More About Ei: IV, ,Perhaps my pursuit of Eternity is nothing more than a form of escapism. In the end, the path I took was like that of a turtle who hides in its shell. Still, turtles have always been a symbol of longevity. Perhaps in order to reach Eternity, one has to follow their example.,More About Ei: V, ,I'm fearful because of what I witnessed , — , demise and that thing. But, if... If it were you, everyone would be safe. You would've saved the world. Just like I cherish the memories of everything in Inazuma, if you remember me, I'll live forever.,Ei's Troubles, ,Don't try and get me to cook. I can take care of anything else, but not that.,Favorite Food, ,Oh, don't listen to the Shogun. Desserts! Cavities are no big deal — you can just replace your teeth. Anyway, I just don't see how desserts can pose a serious obstacle to my pursuit of Eternity.,Birthday, ,Happy birthday! Let's celebrate together and make it a moment to remember for the whole year until your next birthday celebration, and so on and so forth. Then, you shall have an eternity of happiness.,Feelings about Ascension: Conclusion, ,The profoundest of the profound is the ,. A sword art without parallel in all the world. With you as my sparring partner, I can perfect that technique even further.,Elemental Skill, ,Shine down!, ,There is no escape!, ,Illusion shattered!,Elemental Burst, ,Torn to oblivion!, ,Now, you shall perish!, ,Inazuma shines eternal!,Sprint Start, , , ,Sprint End,Deploying Wind Glider, , , ,Opening Treasure Chest, ,Take them. I have no need., ,...But a momentary distraction., ,Hmm?,Low HP, ,...Transcend all constraints., ,...Erase all threats., ,...Remove all obstacles.,Ally at Low HP, ,Fall back and await my orders., ,Step aside.,Fallen, ,The mortal plane... a fleeting dream..., ,Detached from the world..., ,The thunder falls silent...,Light Hit Taken, , , , , , ,Heavy Hit Taken, ,Insolent!, ,Absurd!, , , , ,Joining Party, ,What is the situation?, ,Stay close and you will live., ,The campaign begins.,Character Idles,Light Attack, , , , , , , ,Mid Attack, , , ,Heavy Attack, , , ,Climbing, , , , , ,Climbing Breath, , , ,Jumping, , , , , \"\"\""
   ]
  },
  {
   "cell_type": "code",
   "execution_count": null,
   "id": "ed9a0e8a",
   "metadata": {},
   "outputs": [],
   "source": [
    "re.sub(r'^.*?,Ally at Low HP', 'Ally at Low HP', shogun)"
   ]
  }
 ],
 "metadata": {
  "kernelspec": {
   "display_name": "Python 3.9.7 ('PIC16B')",
   "language": "python",
   "name": "python397jvsc74a57bd03ec854de0c656b13c95fc6f273e6cc563c42008af15792eb2b730b2094dd79eb"
  },
  "language_info": {
   "codemirror_mode": {
    "name": "ipython",
    "version": 3
   },
   "file_extension": ".py",
   "mimetype": "text/x-python",
   "name": "python",
   "nbconvert_exporter": "python",
   "pygments_lexer": "ipython3",
   "version": "3.9.7"
  }
 },
 "nbformat": 4,
 "nbformat_minor": 5
}
